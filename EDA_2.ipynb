{
  "nbformat": 4,
  "nbformat_minor": 0,
  "metadata": {
    "colab": {
      "name": "EDA_2.ipynb",
      "version": "0.3.2",
      "provenance": [],
      "collapsed_sections": []
    },
    "kernelspec": {
      "name": "python3",
      "display_name": "Python 3"
    }
  },
  "cells": [
    {
      "cell_type": "code",
      "metadata": {
        "id": "stQJNXW-tXEY",
        "colab_type": "code",
        "colab": {
          "base_uri": "https://localhost:8080/",
          "height": 70
        },
        "outputId": "6dcd0b1e-6f6b-48dc-b261-381ceb4c72df"
      },
      "source": [
        "import pandas as pd\n",
        "import numpy as np\n",
        "%matplotlib inline\n",
        "import matplotlib.pyplot as plt\n",
        "df = pd.read_csv('en.openfoodfacts.org.products.tsv', sep='\\t')\n",
        "pd.set_option(\"display.max_columns\", len(df.columns))\n"
      ],
      "execution_count": 61,
      "outputs": [
        {
          "output_type": "stream",
          "text": [
            "/usr/local/lib/python3.6/dist-packages/IPython/core/interactiveshell.py:2718: DtypeWarning: Columns (17,18,24,25,26,28,37,38,39,48) have mixed types. Specify dtype option on import or set low_memory=False.\n",
            "  interactivity=interactivity, compiler=compiler, result=result)\n"
          ],
          "name": "stderr"
        }
      ]
    },
    {
      "cell_type": "code",
      "metadata": {
        "id": "7XSL4LtJtlho",
        "colab_type": "code",
        "colab": {}
      },
      "source": [
        "def nutrint_info_detail(df, country, nutrient):\n",
        "    country_df = df[(df['countries_en'] == country)][(nutrient + '_100g')]\n",
        "    num_null = len(country_df[country_df.isnull()])\n",
        "    nutrient_list = list(country_df[country_df.notnull()])     \n",
        "    num_not_null = len(nutrient_list)\n",
        "    \n",
        "    perc_not_null = num_not_null/(num_not_null+num_null)\n",
        "    \n",
        "    if len(nutrient_list) == 0:\n",
        "        nutrient_mean = 999999\n",
        "    else:\n",
        "        nutrient_mean = np.mean(nutrient_list)\n",
        "        \n",
        "    return nutrient_mean, num_null, num_not_null, perc_not_null"
      ],
      "execution_count": 0,
      "outputs": []
    },
    {
      "cell_type": "code",
      "metadata": {
        "id": "z1tPISSUtpi5",
        "colab_type": "code",
        "colab": {
          "base_uri": "https://localhost:8080/",
          "height": 34
        },
        "outputId": "c2c6ce8d-98fc-476f-f2f8-57074bbe41ba"
      },
      "source": [
        "country_list = []\n",
        "for country in list(df['countries_en'].unique()):\n",
        "    try:\n",
        "        if len(country.split(',')) == 1:\n",
        "            country_list.append(country)\n",
        "    except:\n",
        "        print('Error:', country)\n",
        "        \n",
        "all_country_dict = {}\n",
        "for country in country_list:\n",
        "    all_country_dict[country] = list(df[df['countries_en'] == country]['countries'].unique())"
      ],
      "execution_count": 63,
      "outputs": [
        {
          "output_type": "stream",
          "text": [
            "Error: nan\n"
          ],
          "name": "stdout"
        }
      ]
    },
    {
      "cell_type": "code",
      "metadata": {
        "id": "M01Dqty5tusa",
        "colab_type": "code",
        "colab": {}
      },
      "source": [
        "nutrient_dict = {}\n",
        "for country in list(all_country_dict.keys()):\n",
        "    nutrient_dict[country] = []\n",
        "\n",
        "# Create a list of nutrients of interest\n",
        "nutrients = ['sugars', 'proteins', 'fat']\n",
        "\n",
        "# Fill in the empty dictionary with all nurition info and entry counts per country\n",
        "for nutrient in nutrients:\n",
        "    for country in list(all_country_dict.keys()):\n",
        "        nutrient_dict[country] = nutrient_dict[country] + list(nutrint_info_detail(df, country, nutrient))"
      ],
      "execution_count": 0,
      "outputs": []
    },
    {
      "cell_type": "code",
      "metadata": {
        "id": "03UiuQY4t17F",
        "colab_type": "code",
        "colab": {}
      },
      "source": [
        "df_columns = []\n",
        "for nutrient in nutrients:\n",
        "    df_columns = df_columns + [str('avg_' + nutrient),\n",
        "                               str(nutrient + '_nulls'),\n",
        "                               str(nutrient + '_not_nulls'),\n",
        "                               str(nutrient + '_perc_not_nulls')]\n",
        "    \n",
        "# Transform the dictionary into a dataframe and display\n",
        "df_nutri = pd.DataFrame.from_dict(nutrient_dict).T\n",
        "df_nutri = df_nutri.reset_index(drop=False)\n",
        "df_nutri.columns = ['country'] + df_columns\n",
        "\n"
      ],
      "execution_count": 0,
      "outputs": []
    },
    {
      "cell_type": "code",
      "metadata": {
        "id": "RqvTsyPct8TV",
        "colab_type": "code",
        "colab": {}
      },
      "source": [
        "clean_df = df_nutri[np.logical_not((df_nutri == 999999).any(1))]"
      ],
      "execution_count": 0,
      "outputs": []
    },
    {
      "cell_type": "code",
      "metadata": {
        "id": "v3-7TJ5ruBST",
        "colab_type": "code",
        "colab": {}
      },
      "source": [
        "drop_countries = ['European Union', 'Other-japon', 'Other-turquie',\n",
        "                  'World','fr:Quebec', 'الإمارات-العربية-المتحدة' ,'السعودية' ,'تونس', 'سلطنة-عمان', 'لبنان', '香港']\n",
        "\n",
        "clean_df = clean_df[np.logical_not(clean_df['country']\\\n",
        "                                                         .isin(drop_countries))]"
      ],
      "execution_count": 0,
      "outputs": []
    },
    {
      "cell_type": "code",
      "metadata": {
        "id": "BmZmFSkguE1m",
        "colab_type": "code",
        "colab": {}
      },
      "source": [
        "final_df_nutri = clean_df[(clean_df['sugars_not_nulls'] > 150) \n",
        "                                        & (clean_df['proteins_not_nulls'] > 150)\n",
        "                                        & (clean_df['fat_not_nulls'] > 150)]\n"
      ],
      "execution_count": 0,
      "outputs": []
    },
    {
      "cell_type": "code",
      "metadata": {
        "id": "9SXo_2d2ul3Q",
        "colab_type": "code",
        "colab": {
          "base_uri": "https://localhost:8080/",
          "height": 143
        },
        "outputId": "f94f17e4-9f69-4265-9412-0e61196abbea"
      },
      "source": [
        "final_df_nutri"
      ],
      "execution_count": 69,
      "outputs": [
        {
          "output_type": "execute_result",
          "data": {
            "text/html": [
              "<div>\n",
              "<style scoped>\n",
              "    .dataframe tbody tr th:only-of-type {\n",
              "        vertical-align: middle;\n",
              "    }\n",
              "\n",
              "    .dataframe tbody tr th {\n",
              "        vertical-align: top;\n",
              "    }\n",
              "\n",
              "    .dataframe thead th {\n",
              "        text-align: right;\n",
              "    }\n",
              "</style>\n",
              "<table border=\"1\" class=\"dataframe\">\n",
              "  <thead>\n",
              "    <tr style=\"text-align: right;\">\n",
              "      <th></th>\n",
              "      <th>country</th>\n",
              "      <th>avg_sugars</th>\n",
              "      <th>sugars_nulls</th>\n",
              "      <th>sugars_not_nulls</th>\n",
              "      <th>sugars_perc_not_nulls</th>\n",
              "      <th>avg_proteins</th>\n",
              "      <th>proteins_nulls</th>\n",
              "      <th>proteins_not_nulls</th>\n",
              "      <th>proteins_perc_not_nulls</th>\n",
              "      <th>avg_fat</th>\n",
              "      <th>fat_nulls</th>\n",
              "      <th>fat_not_nulls</th>\n",
              "      <th>fat_perc_not_nulls</th>\n",
              "    </tr>\n",
              "  </thead>\n",
              "  <tbody>\n",
              "    <tr>\n",
              "      <th>0</th>\n",
              "      <td>France</td>\n",
              "      <td>15.414204</td>\n",
              "      <td>214.0</td>\n",
              "      <td>245.0</td>\n",
              "      <td>0.533769</td>\n",
              "      <td>7.101797</td>\n",
              "      <td>213.0</td>\n",
              "      <td>246.0</td>\n",
              "      <td>0.535948</td>\n",
              "      <td>12.863688</td>\n",
              "      <td>260.0</td>\n",
              "      <td>199.0</td>\n",
              "      <td>0.433551</td>\n",
              "    </tr>\n",
              "    <tr>\n",
              "      <th>1</th>\n",
              "      <td>United States</td>\n",
              "      <td>15.954133</td>\n",
              "      <td>2163.0</td>\n",
              "      <td>23241.0</td>\n",
              "      <td>0.914856</td>\n",
              "      <td>6.682136</td>\n",
              "      <td>378.0</td>\n",
              "      <td>25026.0</td>\n",
              "      <td>0.985120</td>\n",
              "      <td>12.417378</td>\n",
              "      <td>330.0</td>\n",
              "      <td>25074.0</td>\n",
              "      <td>0.987010</td>\n",
              "    </tr>\n",
              "  </tbody>\n",
              "</table>\n",
              "</div>"
            ],
            "text/plain": [
              "         country  avg_sugars  sugars_nulls  sugars_not_nulls  \\\n",
              "0         France   15.414204         214.0             245.0   \n",
              "1  United States   15.954133        2163.0           23241.0   \n",
              "\n",
              "   sugars_perc_not_nulls  avg_proteins  proteins_nulls  proteins_not_nulls  \\\n",
              "0               0.533769      7.101797           213.0               246.0   \n",
              "1               0.914856      6.682136           378.0             25026.0   \n",
              "\n",
              "   proteins_perc_not_nulls    avg_fat  fat_nulls  fat_not_nulls  \\\n",
              "0                 0.535948  12.863688      260.0          199.0   \n",
              "1                 0.985120  12.417378      330.0        25074.0   \n",
              "\n",
              "   fat_perc_not_nulls  \n",
              "0            0.433551  \n",
              "1            0.987010  "
            ]
          },
          "metadata": {
            "tags": []
          },
          "execution_count": 69
        }
      ]
    },
    {
      "cell_type": "code",
      "metadata": {
        "id": "W_tmm_l9wZU3",
        "colab_type": "code",
        "colab": {}
      },
      "source": [
        "x = final_df_nutri.iloc(0)"
      ],
      "execution_count": 0,
      "outputs": []
    },
    {
      "cell_type": "code",
      "metadata": {
        "id": "jhwPckNexhid",
        "colab_type": "code",
        "colab": {}
      },
      "source": [
        "france  = x[0]\n",
        "US = x[1]"
      ],
      "execution_count": 0,
      "outputs": []
    },
    {
      "cell_type": "code",
      "metadata": {
        "id": "K7cIc22CxiQF",
        "colab_type": "code",
        "colab": {
          "base_uri": "https://localhost:8080/",
          "height": 34
        },
        "outputId": "06dc2650-0cf5-4a42-f53f-c7a02808caa4"
      },
      "source": [
        "france[0]"
      ],
      "execution_count": 72,
      "outputs": [
        {
          "output_type": "execute_result",
          "data": {
            "text/plain": [
              "'France'"
            ]
          },
          "metadata": {
            "tags": []
          },
          "execution_count": 72
        }
      ]
    },
    {
      "cell_type": "code",
      "metadata": {
        "id": "6bp3kOAYxwMf",
        "colab_type": "code",
        "colab": {
          "base_uri": "https://localhost:8080/",
          "height": 235
        },
        "outputId": "f85a09f8-cbad-417c-cd5f-1c0d0ed33ad3"
      },
      "source": [
        "US[1:]"
      ],
      "execution_count": 73,
      "outputs": [
        {
          "output_type": "execute_result",
          "data": {
            "text/plain": [
              "avg_sugars                  15.9541\n",
              "sugars_nulls                   2163\n",
              "sugars_not_nulls              23241\n",
              "sugars_perc_not_nulls      0.914856\n",
              "avg_proteins                6.68214\n",
              "proteins_nulls                  378\n",
              "proteins_not_nulls            25026\n",
              "proteins_perc_not_nulls     0.98512\n",
              "avg_fat                     12.4174\n",
              "fat_nulls                       330\n",
              "fat_not_nulls                 25074\n",
              "fat_perc_not_nulls          0.98701\n",
              "Name: 1, dtype: object"
            ]
          },
          "metadata": {
            "tags": []
          },
          "execution_count": 73
        }
      ]
    },
    {
      "cell_type": "code",
      "metadata": {
        "id": "tW02LPucx1x-",
        "colab_type": "code",
        "colab": {
          "base_uri": "https://localhost:8080/",
          "height": 300
        },
        "outputId": "d65efcf0-e51c-45b6-aa70-e739e03fbffc"
      },
      "source": [
        "f = france[0]\n",
        "us = US[0]\n",
        "f_info = france[1:]\n",
        "us_info= US[1:]\n",
        "plt.scatter(f_info, us_info)\n",
        "\n",
        "# Create legend.\n",
        "plt.legend(loc='upper left')\n",
        "plt.xlabel('Nutrient Info')\n",
        "plt.ylabel('Nutrient Info')"
      ],
      "execution_count": 74,
      "outputs": [
        {
          "output_type": "execute_result",
          "data": {
            "text/plain": [
              "Text(0, 0.5, 'Nutrient Info')"
            ]
          },
          "metadata": {
            "tags": []
          },
          "execution_count": 74
        },
        {
          "output_type": "display_data",
          "data": {
            "image/png": "[encoded data removed]",
            "text/plain": [
              "<Figure size 432x288 with 1 Axes>"
            ]
          },
          "metadata": {
            "tags": []
          }
        }
      ]
    },
    {
      "cell_type": "markdown",
      "metadata": {
        "id": "eJxs4UV20ex3",
        "colab_type": "text"
      },
      "source": [
        "# Correlation between average nutrition informaton of top 2 countries,France and US"
      ]
    },
    {
      "cell_type": "code",
      "metadata": {
        "id": "v_2G5_ajy9S8",
        "colab_type": "code",
        "colab": {}
      },
      "source": [
        ""
      ],
      "execution_count": 0,
      "outputs": []
    }
  ]
}